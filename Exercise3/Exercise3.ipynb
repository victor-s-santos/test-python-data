{
 "cells": [
  {
   "cell_type": "markdown",
   "metadata": {},
   "source": [
    "# Download do arquivo no S3"
   ]
  },
  {
   "cell_type": "code",
   "execution_count": 1,
   "metadata": {},
   "outputs": [
    {
     "name": "stdout",
     "output_type": "stream",
     "text": [
      "Victor Santos S\n"
     ]
    }
   ],
   "source": [
    "#Testing enviroment variable\n",
    "import os\n",
    "from dotenv import load_dotenv\n",
    "load_dotenv()\n",
    "name = os.getenv('NAME-TESTE')\n",
    "print(name)"
   ]
  },
  {
   "cell_type": "code",
   "execution_count": 2,
   "metadata": {},
   "outputs": [
    {
     "name": "stdout",
     "output_type": "stream",
     "text": [
      "Requirement already satisfied: psycopg2-binary in /home/victor/.pyenv/versions/3.6.5/lib/python3.6/site-packages\n",
      "\u001b[33mYou are using pip version 9.0.3, however version 19.3.1 is available.\n",
      "You should consider upgrading via the 'pip install --upgrade pip' command.\u001b[0m\n"
     ]
    }
   ],
   "source": [
    "# Install a pip package in the current Jupyter kernel\n",
    "import sys\n",
    "!{sys.executable} -m pip install psycopg2-binary"
   ]
  },
  {
   "cell_type": "code",
   "execution_count": 4,
   "metadata": {},
   "outputs": [],
   "source": [
    "#file download from S3\n",
    "import boto3\n",
    "from boto3 import client\n",
    "\n",
    "\n",
    "def download_file(file_name, bucket='tekmore', new_name='livros_python.json'):\n",
    "    s3 = boto3.client('s3')\n",
    "    s3.download_file(bucket, file_name, new_name)\n",
    "\n",
    "download_file('lista_livros_python.json')"
   ]
  },
  {
   "cell_type": "code",
   "execution_count": 13,
   "metadata": {},
   "outputs": [
    {
     "name": "stdout",
     "output_type": "stream",
     "text": [
      "<class 'list'>\n",
      "<class 'dict'>\n",
      "{'title_suggest': 'Pythons of Australia', 'edition_key': ['OL707632M'], 'isbn': ['0965744612', '9780965744614'], 'has_fulltext': False, 'text': ['OL707632M', '0965744612', '9780965744614', 'Brian A. Kend', 'Schuett, Laura White.', 'Schuett, Gordon W.', 'OL406588A', 'Pythons of Australia', 'Brian A. Kend ; edited by Gordon W. Schuett and Laura White Schuett.', 'Pythons', '/works/OL2765069W', 'Canyonlands Pub. Group', '97069689', 'Australia'], 'author_name': ['Brian A. Kend'], 'seed': ['/books/OL707632M', '/works/OL2765069W', '/subjects/pythons', '/subjects/place:australia', '/authors/OL406588A'], 'contributor': ['Schuett, Laura White.', 'Schuett, Gordon W.'], 'author_key': ['OL406588A'], 'subject': ['Pythons'], 'title': 'Pythons of Australia', 'publish_date': ['1997'], 'type': 'work', 'ebook_count_i': 0, 'publish_place': ['Provo, Utah'], 'edition_count': 1, 'key': '/works/OL2765069W', 'id_goodreads': ['3813466'], 'publisher': ['Canyonlands Pub. Group'], 'language': ['eng'], 'lccn': ['97069689'], 'last_modified_i': 1280521914, 'id_librarything': ['1301740'], 'publish_year': [1997], 'first_publish_year': 1997, 'place': ['Australia']}\n"
     ]
    },
    {
     "data": {
      "text/plain": [
       "'I have a dictionary list'"
      ]
     },
     "execution_count": 13,
     "metadata": {},
     "output_type": "execute_result"
    }
   ],
   "source": [
    "#handling the file\n",
    "import json\n",
    "with open('livros_python.json') as arquivo:\n",
    "    books = json.load(arquivo)\n",
    "print(type(books))\n",
    "print(type(books[0]))\n",
    "print(books[1])\n",
    "\"\"\"I have a dictionary list\"\"\""
   ]
  },
  {
   "cell_type": "code",
   "execution_count": 14,
   "metadata": {},
   "outputs": [],
   "source": [
    "import psycopg2\n",
    "connection = psycopg2.connect(\n",
    "    host='localhost',\n",
    "    database='teste',\n",
    "    user='vsantos93',\n",
    "    password='swordfish'\n",
    ")\n",
    "\n",
    "cursor = connection.cursor()\n",
    "#Creating tables\n",
    "table_books = 'CREATE TABLE IF NOT EXISTS books (ID SERIAL PRIMARY KEY, KEY TEXT, TITLE TEXT, PUBLISHED_YEAR INT )'\n",
    "table_subjects = 'CREATE TABLE IF NOT EXISTS books_subject (ID SERIAL PRIMARY KEY, BOOK_ID INT NOT NULL, NAME TEXT, FOREIGN KEY (BOOK_ID) REFERENCES BOOKS(ID) ON DELETE CASCADE)'\n",
    "cursor.execute(table_books)\n",
    "cursor.execute(table_subjects)\n",
    "\n",
    "#cursor.execute('INSERT INTO books (ID, KEY, TITLE, PUBLISHED_YEAR) values (%s, %s, %s, %s)', (30, \"VA\", \"Primeiro Teste\", 1993))\n",
    "connection.commit()\n",
    "#creating tables and inserting a new entry"
   ]
  },
  {
   "cell_type": "code",
   "execution_count": 8,
   "metadata": {},
   "outputs": [],
   "source": [
    "for id, each_book in enumerate(books):\n",
    "    \"\"\"I am using the enumerate to generate a unique id for each book\"\"\"\n",
    "    key = each_book['key']\n",
    "    title = each_book['title']\n",
    "    published_year = (each_book['publish_year'][0])\n",
    "    subjects = each_book['subject']\n",
    "    if published_year < 1991 or 'pythons' in title or 'snake' in title:\n",
    "        pass\n",
    "    else:\n",
    "        cursor.execute('INSERT INTO books (ID, KEY, TITLE, PUBLISHED_YEAR) values (%s, %s, %s, %s)', (id, key, title, published_year))\n",
    "    connection.commit()"
   ]
  },
  {
   "cell_type": "code",
   "execution_count": 9,
   "metadata": {},
   "outputs": [],
   "source": [
    "for id, each_book in enumerate(books):\n",
    "    \"\"\"I am using the enumerate to generate a unique id for each book\"\"\"\n",
    "    key = each_book['key']\n",
    "    title = each_book['title']\n",
    "    published_year = (each_book['publish_year'][0])\n",
    "    subjects = each_book['subject']\n",
    "    if published_year < 1991 or 'pythons' in title or 'snake' in title or 'Pythons' in subjects:\n",
    "        pass\n",
    "    else:\n",
    "        cursor.execute('INSERT INTO books (ID, KEY, TITLE, PUBLISHED_YEAR) values (%s, %s, %s, %s)', (id, key, title, published_year))\n",
    "        for i, subject in enumerate(subjects):\n",
    "            cursor.execute('INSERT INTO books_subject (book_id, name) values (%s, %s)', (id, subject))\n",
    "    connection.commit()"
   ]
  },
  {
   "cell_type": "code",
   "execution_count": 10,
   "metadata": {},
   "outputs": [],
   "source": [
    "for id, each_book in enumerate(books):\n",
    "    \"\"\"I am using the enumerate to generate an unique id for each book\"\"\"\n",
    "    key = each_book['key']\n",
    "    title = each_book['title']\n",
    "    published_year = (each_book['publish_year'][0])\n",
    "    subjects = each_book['subject']\n",
    "    if published_year < 1991 or 'pythons' in title or 'snake' in title or 'Pythons' in subjects or 'pythons as pets' in subjects or 'Monty Python (Comedy troupe)' in subjects or 'Drama' in subjects:\n",
    "        pass\n",
    "    else:\n",
    "        cursor.execute('INSERT INTO books (ID, KEY, TITLE, PUBLISHED_YEAR) values (%s, %s, %s, %s)', (id, key, title, published_year))\n",
    "        for i, subject in enumerate(subjects):\n",
    "            cursor.execute('INSERT INTO books_subject (book_id, name) values (%s, %s)', (id, subject))\n",
    "    connection.commit()"
   ]
  },
  {
   "cell_type": "markdown",
   "metadata": {},
   "source": [
    "## Another way to create an id to each book"
   ]
  },
  {
   "cell_type": "code",
   "execution_count": 67,
   "metadata": {},
   "outputs": [
    {
     "name": "stdout",
     "output_type": "stream",
     "text": [
      "e3e70682c2094cac629f6fbed82c07cd f728b4fa42485e3a0a5d2f346baa9455 eb1167b367a9c3787c65c1e582e2e662\n"
     ]
    },
    {
     "data": {
      "text/plain": [
       "False"
      ]
     },
     "execution_count": 67,
     "metadata": {},
     "output_type": "execute_result"
    }
   ],
   "source": [
    "import uuid\n",
    "import random\n",
    "rd = random.Random()\n",
    "rd.seed(0)\n",
    "uuid.uuid4 = lambda: uuid.UUID(int=rd.getrandbits(128))\n",
    "\n",
    "a = uuid.uuid4().hex\n",
    "b = uuid.uuid4().hex\n",
    "c = uuid.uuid4().hex\n",
    "print(a,b,c)\n",
    "a == b == c"
   ]
  },
  {
   "cell_type": "code",
   "execution_count": 22,
   "metadata": {},
   "outputs": [
    {
     "name": "stdout",
     "output_type": "stream",
     "text": [
      "59542364593050319873529458991305067471\n",
      "59542364672278482387793796584849017807\n",
      "59542364751506644902058134178392968143\n",
      "59542364830734807416322471771936918479\n",
      "59542364909962969930586809365480868815\n",
      "59542364989191132444851146959024819151\n",
      "59542365068419294959115484552568769487\n",
      "59542365147647457473379822146112719823\n",
      "59542365226875619987644159739656670159\n",
      "59542365306103782501908497333200620495\n"
     ]
    }
   ],
   "source": [
    "for i in range(10):\n",
    "    a = uuid.uuid1().int\n",
    "    print(a)"
   ]
  },
  {
   "cell_type": "code",
   "execution_count": 60,
   "metadata": {},
   "outputs": [
    {
     "name": "stdout",
     "output_type": "stream",
     "text": [
      "000000000000000011af923d79fdef7c\n",
      "0000000000000000adc0da7a16febaa0\n",
      "0000000000000000215663abc1f254b8\n",
      "00000000000000002648ee38e07405eb\n",
      "000000000000000009e469e6ec62b2c8\n",
      "0000000000000000148b2758d7ab7928\n",
      "0000000000000000b306d1a8e5eeac76\n",
      "0000000000000000d450fe4aec4f217b\n",
      "0000000000000000aef9c00b8a64c1b9\n",
      "0000000000000000d67e55fd642bfa42\n"
     ]
    }
   ],
   "source": [
    "for i in range(10):\n",
    "    a = uuid.uuid4().hex\n",
    "    print(a)"
   ]
  },
  {
   "cell_type": "code",
   "execution_count": 63,
   "metadata": {},
   "outputs": [
    {
     "name": "stdout",
     "output_type": "stream",
     "text": [
      "fb82860deabca8d0\n",
      "5b7c709acb175a5a\n",
      "5306f3f515166570\n",
      "1d878f9f9cdf5a86\n",
      "964a870c7c879b74\n",
      "55d44936a1515607\n",
      "30bcab0ed8570102\n",
      "0426465e3e37952d\n",
      "4562be7fbb42e0b2\n",
      "b490b6081dfc8352\n"
     ]
    }
   ],
   "source": [
    "for i in range(10):\n",
    "    a = uuid.uuid4().hex[16:]\n",
    "    print(a)"
   ]
  },
  {
   "cell_type": "markdown",
   "metadata": {},
   "source": [
    "## Another way"
   ]
  },
  {
   "cell_type": "code",
   "execution_count": 25,
   "metadata": {},
   "outputs": [
    {
     "ename": "NumericValueOutOfRange",
     "evalue": "integer out of range\n",
     "output_type": "error",
     "traceback": [
      "\u001b[0;31m---------------------------------------------------------------------------\u001b[0m",
      "\u001b[0;31mNumericValueOutOfRange\u001b[0m                    Traceback (most recent call last)",
      "\u001b[0;32m<ipython-input-25-ea3684e2ea6a>\u001b[0m in \u001b[0;36m<module>\u001b[0;34m\u001b[0m\n\u001b[1;32m     10\u001b[0m         \u001b[0;32mpass\u001b[0m\u001b[0;34m\u001b[0m\u001b[0m\n\u001b[1;32m     11\u001b[0m     \u001b[0;32melse\u001b[0m\u001b[0;34m:\u001b[0m\u001b[0;34m\u001b[0m\u001b[0m\n\u001b[0;32m---> 12\u001b[0;31m         \u001b[0mcursor\u001b[0m\u001b[0;34m.\u001b[0m\u001b[0mexecute\u001b[0m\u001b[0;34m(\u001b[0m\u001b[0;34m'INSERT INTO books (ID, KEY, TITLE, PUBLISHED_YEAR) values (%s, %s, %s, %s)'\u001b[0m\u001b[0;34m,\u001b[0m \u001b[0;34m(\u001b[0m\u001b[0mid\u001b[0m\u001b[0;34m,\u001b[0m \u001b[0mkey\u001b[0m\u001b[0;34m,\u001b[0m \u001b[0mtitle\u001b[0m\u001b[0;34m,\u001b[0m \u001b[0mpublished_year\u001b[0m\u001b[0;34m)\u001b[0m\u001b[0;34m)\u001b[0m\u001b[0;34m\u001b[0m\u001b[0m\n\u001b[0m\u001b[1;32m     13\u001b[0m         \u001b[0;32mfor\u001b[0m \u001b[0mi\u001b[0m\u001b[0;34m,\u001b[0m \u001b[0msubject\u001b[0m \u001b[0;32min\u001b[0m \u001b[0menumerate\u001b[0m\u001b[0;34m(\u001b[0m\u001b[0msubjects\u001b[0m\u001b[0;34m)\u001b[0m\u001b[0;34m:\u001b[0m\u001b[0;34m\u001b[0m\u001b[0m\n\u001b[1;32m     14\u001b[0m             \u001b[0mcursor\u001b[0m\u001b[0;34m.\u001b[0m\u001b[0mexecute\u001b[0m\u001b[0;34m(\u001b[0m\u001b[0;34m'INSERT INTO books_subject (book_id, name) values (%s, %s)'\u001b[0m\u001b[0;34m,\u001b[0m \u001b[0;34m(\u001b[0m\u001b[0mid\u001b[0m\u001b[0;34m,\u001b[0m \u001b[0msubject\u001b[0m\u001b[0;34m)\u001b[0m\u001b[0;34m)\u001b[0m\u001b[0;34m\u001b[0m\u001b[0m\n",
      "\u001b[0;31mNumericValueOutOfRange\u001b[0m: integer out of range\n"
     ]
    }
   ],
   "source": [
    "import uuid\n",
    "for each_book in books:\n",
    "    \"\"\"I am using the enumerate to generate an unique id for each book\"\"\"\n",
    "    key = each_book['key']\n",
    "    title = each_book['title']\n",
    "    published_year = (each_book['publish_year'][0])\n",
    "    subjects = each_book['subject']\n",
    "    id = uuid.uuid1().int\n",
    "    if published_year < 1991 or 'pythons' in title or 'snake' in title or 'Pythons' in subjects or 'pythons as pets' in subjects or 'Monty Python (Comedy troupe)' in subjects or 'Drama' in subjects:\n",
    "        pass\n",
    "    else:\n",
    "        cursor.execute('INSERT INTO books (ID, KEY, TITLE, PUBLISHED_YEAR) values (%s, %s, %s, %s)', (id, key, title, published_year))\n",
    "        for i, subject in enumerate(subjects):\n",
    "            cursor.execute('INSERT INTO books_subject (book_id, name) values (%s, %s)', (id, subject))\n",
    "    connection.commit()"
   ]
  },
  {
   "cell_type": "code",
   "execution_count": 64,
   "metadata": {},
   "outputs": [
    {
     "ename": "UniqueViolation",
     "evalue": "duplicate key value violates unique constraint \"books_pkey\"\nDETAIL:  Key (id)=(176) already exists.\n",
     "output_type": "error",
     "traceback": [
      "\u001b[0;31m---------------------------------------------------------------------------\u001b[0m",
      "\u001b[0;31mUniqueViolation\u001b[0m                           Traceback (most recent call last)",
      "\u001b[0;32m<ipython-input-64-3e5e9e506c67>\u001b[0m in \u001b[0;36m<module>\u001b[0;34m\u001b[0m\n\u001b[1;32m     11\u001b[0m         \u001b[0;32mpass\u001b[0m\u001b[0;34m\u001b[0m\u001b[0m\n\u001b[1;32m     12\u001b[0m     \u001b[0;32melse\u001b[0m\u001b[0;34m:\u001b[0m\u001b[0;34m\u001b[0m\u001b[0m\n\u001b[0;32m---> 13\u001b[0;31m         \u001b[0mcursor\u001b[0m\u001b[0;34m.\u001b[0m\u001b[0mexecute\u001b[0m\u001b[0;34m(\u001b[0m\u001b[0;34m'INSERT INTO books (ID, KEY, TITLE, PUBLISHED_YEAR) values (%s, %s, %s, %s)'\u001b[0m\u001b[0;34m,\u001b[0m \u001b[0;34m(\u001b[0m\u001b[0mid\u001b[0m\u001b[0;34m,\u001b[0m \u001b[0mkey\u001b[0m\u001b[0;34m,\u001b[0m \u001b[0mtitle\u001b[0m\u001b[0;34m,\u001b[0m \u001b[0mpublished_year\u001b[0m\u001b[0;34m)\u001b[0m\u001b[0;34m)\u001b[0m\u001b[0;34m\u001b[0m\u001b[0m\n\u001b[0m\u001b[1;32m     14\u001b[0m         \u001b[0;32mfor\u001b[0m \u001b[0mi\u001b[0m\u001b[0;34m,\u001b[0m \u001b[0msubject\u001b[0m \u001b[0;32min\u001b[0m \u001b[0menumerate\u001b[0m\u001b[0;34m(\u001b[0m\u001b[0msubjects\u001b[0m\u001b[0;34m)\u001b[0m\u001b[0;34m:\u001b[0m\u001b[0;34m\u001b[0m\u001b[0m\n\u001b[1;32m     15\u001b[0m             \u001b[0mcursor\u001b[0m\u001b[0;34m.\u001b[0m\u001b[0mexecute\u001b[0m\u001b[0;34m(\u001b[0m\u001b[0;34m'INSERT INTO books_subject (book_id, name) values (%s, %s)'\u001b[0m\u001b[0;34m,\u001b[0m \u001b[0;34m(\u001b[0m\u001b[0mid\u001b[0m\u001b[0;34m,\u001b[0m \u001b[0msubject\u001b[0m\u001b[0;34m)\u001b[0m\u001b[0;34m)\u001b[0m\u001b[0;34m\u001b[0m\u001b[0m\n",
      "\u001b[0;31mUniqueViolation\u001b[0m: duplicate key value violates unique constraint \"books_pkey\"\nDETAIL:  Key (id)=(176) already exists.\n"
     ]
    }
   ],
   "source": [
    "import uuid\n",
    "for each_book in books:\n",
    "    \"\"\"I am using the enumerate to generate an unique id for each book\"\"\"\n",
    "    key = each_book['key']\n",
    "    title = each_book['title']\n",
    "    published_year = (each_book['publish_year'][0])\n",
    "    subjects = each_book['subject']\n",
    "    id = str(uuid.uuid1().int)[:3]\n",
    "    id = int(id)\n",
    "    if published_year < 1991 or 'pythons' in title or 'snake' in title or 'Pythons' in subjects or 'pythons as pets' in subjects or 'Monty Python (Comedy troupe)' in subjects or 'Drama' in subjects:\n",
    "        pass\n",
    "    else:\n",
    "        cursor.execute('INSERT INTO books (ID, KEY, TITLE, PUBLISHED_YEAR) values (%s, %s, %s, %s)', (id, key, title, published_year))\n",
    "        for i, subject in enumerate(subjects):\n",
    "            cursor.execute('INSERT INTO books_subject (book_id, name) values (%s, %s)', (id, subject))\n",
    "    connection.commit()"
   ]
  },
  {
   "cell_type": "code",
   "execution_count": null,
   "metadata": {},
   "outputs": [],
   "source": []
  }
 ],
 "metadata": {
  "kernelspec": {
   "display_name": "Python 3",
   "language": "python",
   "name": "python3"
  },
  "language_info": {
   "codemirror_mode": {
    "name": "ipython",
    "version": 3
   },
   "file_extension": ".py",
   "mimetype": "text/x-python",
   "name": "python",
   "nbconvert_exporter": "python",
   "pygments_lexer": "ipython3",
   "version": "3.6.5"
  }
 },
 "nbformat": 4,
 "nbformat_minor": 2
}
