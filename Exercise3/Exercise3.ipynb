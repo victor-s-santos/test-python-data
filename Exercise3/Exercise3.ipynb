{
 "cells": [
  {
   "cell_type": "markdown",
   "metadata": {},
   "source": [
    "# Download do arquivo no S3"
   ]
  },
  {
   "cell_type": "code",
   "execution_count": 1,
   "metadata": {},
   "outputs": [
    {
     "name": "stdout",
     "output_type": "stream",
     "text": [
      "Victor Santos S\n"
     ]
    }
   ],
   "source": [
    "#Testing enviroment variable\n",
    "import os\n",
    "from dotenv import load_dotenv\n",
    "load_dotenv()\n",
    "name = os.getenv('NAME-TESTE')\n",
    "print(name)"
   ]
  },
  {
   "cell_type": "code",
   "execution_count": 2,
   "metadata": {},
   "outputs": [
    {
     "name": "stdout",
     "output_type": "stream",
     "text": [
      "Requirement already satisfied: psycopg2-binary in /home/victor/.pyenv/versions/3.6.5/lib/python3.6/site-packages\n",
      "\u001b[33mYou are using pip version 9.0.3, however version 19.3.1 is available.\n",
      "You should consider upgrading via the 'pip install --upgrade pip' command.\u001b[0m\n"
     ]
    }
   ],
   "source": [
    "# Install a pip package in the current Jupyter kernel\n",
    "import sys\n",
    "!{sys.executable} -m pip install psycopg2-binary"
   ]
  },
  {
   "cell_type": "code",
   "execution_count": 4,
   "metadata": {},
   "outputs": [],
   "source": [
    "#file download from S3\n",
    "import boto3\n",
    "from boto3 import client\n",
    "\n",
    "\n",
    "def download_file(file_name, bucket='tekmore', new_name='livros_python.json'):\n",
    "    s3 = boto3.client('s3')\n",
    "    s3.download_file(bucket, file_name, new_name)\n",
    "\n",
    "download_file('lista_livros_python.json')"
   ]
  },
  {
   "cell_type": "code",
   "execution_count": 13,
   "metadata": {},
   "outputs": [
    {
     "name": "stdout",
     "output_type": "stream",
     "text": [
      "<class 'list'>\n",
      "<class 'dict'>\n",
      "{'title_suggest': 'Pythons of Australia', 'edition_key': ['OL707632M'], 'isbn': ['0965744612', '9780965744614'], 'has_fulltext': False, 'text': ['OL707632M', '0965744612', '9780965744614', 'Brian A. Kend', 'Schuett, Laura White.', 'Schuett, Gordon W.', 'OL406588A', 'Pythons of Australia', 'Brian A. Kend ; edited by Gordon W. Schuett and Laura White Schuett.', 'Pythons', '/works/OL2765069W', 'Canyonlands Pub. Group', '97069689', 'Australia'], 'author_name': ['Brian A. Kend'], 'seed': ['/books/OL707632M', '/works/OL2765069W', '/subjects/pythons', '/subjects/place:australia', '/authors/OL406588A'], 'contributor': ['Schuett, Laura White.', 'Schuett, Gordon W.'], 'author_key': ['OL406588A'], 'subject': ['Pythons'], 'title': 'Pythons of Australia', 'publish_date': ['1997'], 'type': 'work', 'ebook_count_i': 0, 'publish_place': ['Provo, Utah'], 'edition_count': 1, 'key': '/works/OL2765069W', 'id_goodreads': ['3813466'], 'publisher': ['Canyonlands Pub. Group'], 'language': ['eng'], 'lccn': ['97069689'], 'last_modified_i': 1280521914, 'id_librarything': ['1301740'], 'publish_year': [1997], 'first_publish_year': 1997, 'place': ['Australia']}\n"
     ]
    },
    {
     "data": {
      "text/plain": [
       "'I have a dictionary list'"
      ]
     },
     "execution_count": 13,
     "metadata": {},
     "output_type": "execute_result"
    }
   ],
   "source": [
    "#handling the file\n",
    "import json\n",
    "with open('livros_python.json') as arquivo:\n",
    "    books = json.load(arquivo)\n",
    "print(type(books))\n",
    "print(type(books[0]))\n",
    "print(books[1])\n",
    "\"\"\"I have a dictionary list\"\"\""
   ]
  },
  {
   "cell_type": "code",
   "execution_count": null,
   "metadata": {},
   "outputs": [],
   "source": []
  },
  {
   "cell_type": "code",
   "execution_count": 14,
   "metadata": {},
   "outputs": [],
   "source": [
    "#connectiong to postgresql database\n",
    "import psycopg2\n",
    "connection = psycopg2.connect(\n",
    "    host='localhost',\n",
    "    database='teste',\n",
    "    user='vsantos93',\n",
    "    password='swordfish'\n",
    ")\n",
    "\n",
    "cursor = connection.cursor()\n",
    "#Creating tables\n",
    "table_books = 'CREATE TABLE IF NOT EXISTS books (ID SERIAL PRIMARY KEY, KEY TEXT, TITLE TEXT, PUBLISHED_YEAR INT )'\n",
    "table_subjects = 'CREATE TABLE IF NOT EXISTS books_subject (ID SERIAL PRIMARY KEY, BOOK_ID INT NOT NULL, NAME TEXT, FOREIGN KEY (BOOK_ID) REFERENCES BOOKS(ID) ON DELETE CASCADE)'\n",
    "cursor.execute(table_books)\n",
    "cursor.execute(table_subjects)\n",
    "#Inserting a single value\n",
    "cursor.execute('INSERT INTO books (ID, KEY, TITLE, PUBLISHED_YEAR) values (%s, %s, %s, %s)', (30, \"VA\", \"Primeiro Teste\", 1993))\n",
    "connection.commit()"
   ]
  },
  {
   "cell_type": "code",
   "execution_count": 8,
   "metadata": {},
   "outputs": [],
   "source": [
    "#inserting the values from books to database , a json object from file\n",
    "for id, each_book in enumerate(books):\n",
    "    \"\"\"I am using the enumerate to generate a unique id for each book\"\"\"\n",
    "    key = each_book['key']\n",
    "    title = each_book['title']\n",
    "    published_year = (each_book['publish_year'][0])\n",
    "    subjects = each_book['subject']\n",
    "    if published_year < 1991 or 'pythons' in title or 'snake' in title:\n",
    "        pass\n",
    "    else:\n",
    "        cursor.execute('INSERT INTO books (ID, KEY, TITLE, PUBLISHED_YEAR) values (%s, %s, %s, %s)', (id, key, title, published_year))\n",
    "    connection.commit()"
   ]
  },
  {
   "cell_type": "code",
   "execution_count": 82,
   "metadata": {},
   "outputs": [],
   "source": [
    "for id, each_book in enumerate(books):\n",
    "    key = each_book['key']\n",
    "    title = each_book['title']\n",
    "    published_year = (each_book['publish_year'][0])\n",
    "    subjects = each_book['subject']\n",
    "    if published_year < 1991 or 'pythons' in title or 'snake' in title or 'Pythons' in subjects:\n",
    "        pass\n",
    "    else:\n",
    "        cursor.execute('INSERT INTO books (ID, KEY, TITLE, PUBLISHED_YEAR) values (%s, %s, %s, %s)', (id, key, title, published_year))\n",
    "        for i, subject in enumerate(subjects):\n",
    "            cursor.execute('INSERT INTO books_subject (book_id, name) values (%s, %s)', (id, subject))\n",
    "    connection.commit()"
   ]
  },
  {
   "cell_type": "code",
   "execution_count": 81,
   "metadata": {},
   "outputs": [
    {
     "ename": "ForeignKeyViolation",
     "evalue": "insert or update on table \"books_subject\" violates foreign key constraint \"books_subject_book_id_fkey\"\nDETAIL:  Key (book_id)=(99) is not present in table \"books\".\n",
     "output_type": "error",
     "traceback": [
      "\u001b[0;31m---------------------------------------------------------------------------\u001b[0m",
      "\u001b[0;31mForeignKeyViolation\u001b[0m                       Traceback (most recent call last)",
      "\u001b[0;32m<ipython-input-81-16be92e8059a>\u001b[0m in \u001b[0;36m<module>\u001b[0;34m\u001b[0m\n\u001b[1;32m     10\u001b[0m         \u001b[0mcursor\u001b[0m\u001b[0;34m.\u001b[0m\u001b[0mexecute\u001b[0m\u001b[0;34m(\u001b[0m\u001b[0;34m'INSERT INTO books (KEY, TITLE, PUBLISHED_YEAR) values (%s, %s, %s)'\u001b[0m\u001b[0;34m,\u001b[0m \u001b[0;34m(\u001b[0m\u001b[0mkey\u001b[0m\u001b[0;34m,\u001b[0m \u001b[0mtitle\u001b[0m\u001b[0;34m,\u001b[0m \u001b[0mpublished_year\u001b[0m\u001b[0;34m)\u001b[0m\u001b[0;34m)\u001b[0m\u001b[0;34m\u001b[0m\u001b[0m\n\u001b[1;32m     11\u001b[0m         \u001b[0;32mfor\u001b[0m \u001b[0msubject\u001b[0m \u001b[0;32min\u001b[0m \u001b[0msubjects\u001b[0m\u001b[0;34m:\u001b[0m\u001b[0;34m\u001b[0m\u001b[0m\n\u001b[0;32m---> 12\u001b[0;31m             \u001b[0mcursor\u001b[0m\u001b[0;34m.\u001b[0m\u001b[0mexecute\u001b[0m\u001b[0;34m(\u001b[0m\u001b[0;34m'INSERT INTO books_subject (book_id, name) values (%s, %s)'\u001b[0m\u001b[0;34m,\u001b[0m \u001b[0;34m(\u001b[0m\u001b[0mid\u001b[0m\u001b[0;34m,\u001b[0m \u001b[0msubject\u001b[0m\u001b[0;34m)\u001b[0m\u001b[0;34m)\u001b[0m\u001b[0;34m\u001b[0m\u001b[0m\n\u001b[0m\u001b[1;32m     13\u001b[0m     \u001b[0mconnection\u001b[0m\u001b[0;34m.\u001b[0m\u001b[0mcommit\u001b[0m\u001b[0;34m(\u001b[0m\u001b[0;34m)\u001b[0m\u001b[0;34m\u001b[0m\u001b[0m\n",
      "\u001b[0;31mForeignKeyViolation\u001b[0m: insert or update on table \"books_subject\" violates foreign key constraint \"books_subject_book_id_fkey\"\nDETAIL:  Key (book_id)=(99) is not present in table \"books\".\n"
     ]
    }
   ],
   "source": [
    "#Trying to Remove the id manual insertion\n",
    "for each_book in books:\n",
    "    key = each_book['key']\n",
    "    title = each_book['title']\n",
    "    published_year = (each_book['publish_year'][0])\n",
    "    subjects = each_book['subject']\n",
    "    if published_year < 1991 or 'pythons' in title or 'snake' in title or 'Pythons' in subjects or 'pythons as pets' in subjects or 'Monty Python (Comedy troupe)' in subjects or 'Drama' in subjects:\n",
    "        pass\n",
    "    else:\n",
    "        cursor.execute('INSERT INTO books (KEY, TITLE, PUBLISHED_YEAR) values (%s, %s, %s)', (key, title, published_year))\n",
    "        for subject in subjects:\n",
    "            cursor.execute('INSERT INTO books_subject (book_id, name) values (%s, %s)', (id, subject))\n",
    "    connection.commit()\n",
    "#crash"
   ]
  },
  {
   "cell_type": "markdown",
   "metadata": {},
   "source": [
    "# Inserting the full file to database"
   ]
  },
  {
   "cell_type": "code",
   "execution_count": 86,
   "metadata": {},
   "outputs": [
    {
     "ename": "InFailedSqlTransaction",
     "evalue": "current transaction is aborted, commands ignored until end of transaction block\n",
     "output_type": "error",
     "traceback": [
      "\u001b[0;31m---------------------------------------------------------------------------\u001b[0m",
      "\u001b[0;31mInFailedSqlTransaction\u001b[0m                    Traceback (most recent call last)",
      "\u001b[0;32m<ipython-input-86-cd3f8b51ad1b>\u001b[0m in \u001b[0;36m<module>\u001b[0;34m\u001b[0m\n\u001b[1;32m      4\u001b[0m     \u001b[0mpublished_year\u001b[0m \u001b[0;34m=\u001b[0m \u001b[0;34m(\u001b[0m\u001b[0meach_book\u001b[0m\u001b[0;34m[\u001b[0m\u001b[0;34m'publish_year'\u001b[0m\u001b[0;34m]\u001b[0m\u001b[0;34m[\u001b[0m\u001b[0;36m0\u001b[0m\u001b[0;34m]\u001b[0m\u001b[0;34m)\u001b[0m\u001b[0;34m\u001b[0m\u001b[0m\n\u001b[1;32m      5\u001b[0m     \u001b[0msubjects\u001b[0m \u001b[0;34m=\u001b[0m \u001b[0meach_book\u001b[0m\u001b[0;34m[\u001b[0m\u001b[0;34m'subject'\u001b[0m\u001b[0;34m]\u001b[0m\u001b[0;34m\u001b[0m\u001b[0m\n\u001b[0;32m----> 6\u001b[0;31m     \u001b[0mcursor\u001b[0m\u001b[0;34m.\u001b[0m\u001b[0mexecute\u001b[0m\u001b[0;34m(\u001b[0m\u001b[0;34m'INSERT INTO books (ID, KEY, TITLE, PUBLISHED_YEAR) values (%s, %s, %s, %s)'\u001b[0m\u001b[0;34m,\u001b[0m \u001b[0;34m(\u001b[0m\u001b[0mid\u001b[0m\u001b[0;34m,\u001b[0m \u001b[0mkey\u001b[0m\u001b[0;34m,\u001b[0m \u001b[0mtitle\u001b[0m\u001b[0;34m,\u001b[0m \u001b[0mpublished_year\u001b[0m\u001b[0;34m)\u001b[0m\u001b[0;34m)\u001b[0m\u001b[0;34m\u001b[0m\u001b[0m\n\u001b[0m\u001b[1;32m      7\u001b[0m     \u001b[0;32mfor\u001b[0m \u001b[0mi\u001b[0m\u001b[0;34m,\u001b[0m \u001b[0msubject\u001b[0m \u001b[0;32min\u001b[0m \u001b[0menumerate\u001b[0m\u001b[0;34m(\u001b[0m\u001b[0msubjects\u001b[0m\u001b[0;34m)\u001b[0m\u001b[0;34m:\u001b[0m\u001b[0;34m\u001b[0m\u001b[0m\n\u001b[1;32m      8\u001b[0m         \u001b[0mcursor\u001b[0m\u001b[0;34m.\u001b[0m\u001b[0mexecute\u001b[0m\u001b[0;34m(\u001b[0m\u001b[0;34m'INSERT INTO books_subject (book_id, name) values (%s, %s)'\u001b[0m\u001b[0;34m,\u001b[0m \u001b[0;34m(\u001b[0m\u001b[0mid\u001b[0m\u001b[0;34m,\u001b[0m \u001b[0msubject\u001b[0m\u001b[0;34m)\u001b[0m\u001b[0;34m)\u001b[0m\u001b[0;34m\u001b[0m\u001b[0m\n",
      "\u001b[0;31mInFailedSqlTransaction\u001b[0m: current transaction is aborted, commands ignored until end of transaction block\n"
     ]
    }
   ],
   "source": [
    "for id, each_book in enumerate(books):\n",
    "    key = each_book['key']\n",
    "    title = each_book['title']\n",
    "    published_year = (each_book['publish_year'][0])\n",
    "    subjects = each_book['subject']\n",
    "    cursor.execute('INSERT INTO books (ID, KEY, TITLE, PUBLISHED_YEAR) values (%s, %s, %s, %s)', (id, key, title, published_year))\n",
    "    for i, subject in enumerate(subjects):\n",
    "        cursor.execute('INSERT INTO books_subject (book_id, name) values (%s, %s)', (id, subject))\n",
    "    connection.commit()"
   ]
  },
  {
   "cell_type": "markdown",
   "metadata": {},
   "source": [
    "I could exchange the enumerate function to uuid lib to create an id numbers, but it seems to be more difficult than  the another one. "
   ]
  },
  {
   "cell_type": "code",
   "execution_count": null,
   "metadata": {},
   "outputs": [],
   "source": []
  }
 ],
 "metadata": {
  "kernelspec": {
   "display_name": "Python 3",
   "language": "python",
   "name": "python3"
  },
  "language_info": {
   "codemirror_mode": {
    "name": "ipython",
    "version": 3
   },
   "file_extension": ".py",
   "mimetype": "text/x-python",
   "name": "python",
   "nbconvert_exporter": "python",
   "pygments_lexer": "ipython3",
   "version": "3.6.5"
  }
 },
 "nbformat": 4,
 "nbformat_minor": 2
}
