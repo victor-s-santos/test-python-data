{
 "cells": [
  {
   "cell_type": "markdown",
   "metadata": {},
   "source": [
    "# Teste Desenvolvedor Python e Data - Segundo Exercício\n",
    "\n",
    "`Você conseguiu salvar o arquivo! Mas salvar arquivos localmente no \n",
    "projeto não parece uma boa ideia.. Altere seu script para fazer o \n",
    "upload desse arquivo para o AWS S3. Você vai precisar dos acessos da \n",
    "AWS, me pergunte sobre.`\n"
   ]
  },
  {
   "cell_type": "markdown",
   "metadata": {},
   "source": [
    "## Install boto3 python module\n",
    "\n",
    "`using jupyter and pip:\n",
    "import sys\n",
    "!{sys.executable} -m pip install boto3\n",
    "or runing python by terminal:\n",
    "pip install boto3`\n",
    "\n",
    "### Uploading files"
   ]
  },
  {
   "cell_type": "code",
   "execution_count": 1,
   "metadata": {},
   "outputs": [
    {
     "name": "stdout",
     "output_type": "stream",
     "text": [
      "Requirement already satisfied: boto3 in /home/victor/.pyenv/versions/3.6.5/lib/python3.6/site-packages\n",
      "Requirement already satisfied: s3transfer<0.3.0,>=0.2.0 in /home/victor/.pyenv/versions/3.6.5/lib/python3.6/site-packages (from boto3)\n",
      "Collecting botocore<1.13.0,>=1.12.240 (from boto3)\n",
      "  Downloading https://files.pythonhosted.org/packages/8e/7b/88f10115b4748f86be6b7b1d8761ba5023fccf6e6cbe762e368f63eddcf9/botocore-1.12.253-py2.py3-none-any.whl (5.7MB)\n",
      "\u001b[K    100% |████████████████████████████████| 5.8MB 181kB/s ta 0:00:01\n",
      "\u001b[?25hRequirement already satisfied: jmespath<1.0.0,>=0.7.1 in /home/victor/.pyenv/versions/3.6.5/lib/python3.6/site-packages (from boto3)\n",
      "Requirement already satisfied: docutils<0.16,>=0.10 in /home/victor/.pyenv/versions/3.6.5/lib/python3.6/site-packages (from botocore<1.13.0,>=1.12.240->boto3)\n",
      "Requirement already satisfied: python-dateutil<3.0.0,>=2.1; python_version >= \"2.7\" in /home/victor/.pyenv/versions/3.6.5/lib/python3.6/site-packages (from botocore<1.13.0,>=1.12.240->boto3)\n",
      "Requirement already satisfied: urllib3<1.26,>=1.20; python_version >= \"3.4\" in /home/victor/.pyenv/versions/3.6.5/lib/python3.6/site-packages (from botocore<1.13.0,>=1.12.240->boto3)\n",
      "Requirement already satisfied: six>=1.5 in /home/victor/.pyenv/versions/3.6.5/lib/python3.6/site-packages (from python-dateutil<3.0.0,>=2.1; python_version >= \"2.7\"->botocore<1.13.0,>=1.12.240->boto3)\n",
      "Installing collected packages: botocore\n",
      "  Found existing installation: botocore 1.13.12\n",
      "    Uninstalling botocore-1.13.12:\n",
      "      Successfully uninstalled botocore-1.13.12\n",
      "Successfully installed botocore-1.12.253\n",
      "\u001b[33mYou are using pip version 9.0.3, however version 19.3.1 is available.\n",
      "You should consider upgrading via the 'pip install --upgrade pip' command.\u001b[0m\n"
     ]
    }
   ],
   "source": [
    "import sys\n",
    "!{sys.executable} -m pip install boto3"
   ]
  },
  {
   "cell_type": "code",
   "execution_count": null,
   "metadata": {},
   "outputs": [],
   "source": [
    "!{sys.executable} -m pip install python-dotenv"
   ]
  },
  {
   "cell_type": "code",
   "execution_count": 3,
   "metadata": {},
   "outputs": [
    {
     "data": {
      "text/plain": [
       "'Arquivo enviado com sucesso!'"
      ]
     },
     "execution_count": 3,
     "metadata": {},
     "output_type": "execute_result"
    }
   ],
   "source": [
    "import logging\n",
    "import boto3\n",
    "from botocore.exceptions import ClientError\n",
    "\n",
    "def upload_file(file_name, bucket=\"tekmore\", object_name=None):\n",
    "    if object_name is None:\n",
    "        object_name = file_name\n",
    "    s3_client = boto3.client('s3')\n",
    "    try:\n",
    "        response = s3_client.upload_file(file_name, bucket, object_name)\n",
    "    except ClientError as e:\n",
    "        logging.error(e)\n",
    "        return(\"Houve um erro no envio do arquivo!\")\n",
    "    return(\"Arquivo enviado com sucesso!\")\n",
    "\n",
    "upload_file('lista_livros_python.json')"
   ]
  },
  {
   "cell_type": "markdown",
   "metadata": {},
   "source": [
    "Neste caso, a configuração de acesso a AWS deve ser feito previamente por meio da cli. Um refatoramento deste código será feito afim de incluir o uso do dotenv, preparando a variável de ambiente."
   ]
  },
  {
   "cell_type": "code",
   "execution_count": 1,
   "metadata": {},
   "outputs": [
    {
     "name": "stdout",
     "output_type": "stream",
     "text": [
      "Victor Santos Silva\n"
     ]
    }
   ],
   "source": [
    "#Testando o uso do dotenv\n",
    "import os\n",
    "from dotenv import load_dotenv\n",
    "load_dotenv()\n",
    "name = os.getenv('NAME-TESTE')\n",
    "print(name)"
   ]
  },
  {
   "cell_type": "code",
   "execution_count": 2,
   "metadata": {},
   "outputs": [
    {
     "data": {
      "text/plain": [
       "'Arquivo enviado com sucesso!'"
      ]
     },
     "execution_count": 2,
     "metadata": {},
     "output_type": "execute_result"
    }
   ],
   "source": [
    "import os\n",
    "from dotenv import load_dotenv\n",
    "import logging\n",
    "import boto3\n",
    "from botocore.exceptions import ClientError\n",
    "\n",
    "def upload_file(file_name, bucket=\"tekmore\", object_name=None):\n",
    "    load_dotenv()\n",
    "    AWS_ACCESS_KEYID = os.getenv('AWS_ACCESS_KEY_ID')\n",
    "    AWS_SECRET_ACCESS = os.getenv('AWS_SECRET_ACCESS_KEY')\n",
    "    s3_client = boto3.client(\n",
    "    's3',\n",
    "    aws_access_key_id=AWS_ACCESS_KEYID,\n",
    "    aws_secret_access_key=AWS_SECRET_ACCESS\n",
    "    )\n",
    "    if object_name is None:\n",
    "        object_name = file_name\n",
    "    try:\n",
    "        response = s3_client.upload_file(file_name, bucket, object_name)\n",
    "    except ClientError as e:\n",
    "        logging.error(e)\n",
    "        return(\"Houve um erro no envio do arquivo!\")\n",
    "    return(\"Arquivo enviado com sucesso!\")\n",
    "\n",
    "upload_file('lista_livros_python.json')"
   ]
  },
  {
   "cell_type": "code",
   "execution_count": null,
   "metadata": {},
   "outputs": [],
   "source": []
  }
 ],
 "metadata": {
  "kernelspec": {
   "display_name": "Python 3",
   "language": "python",
   "name": "python3"
  },
  "language_info": {
   "codemirror_mode": {
    "name": "ipython",
    "version": 3
   },
   "file_extension": ".py",
   "mimetype": "text/x-python",
   "name": "python",
   "nbconvert_exporter": "python",
   "pygments_lexer": "ipython3",
   "version": "3.6.5"
  }
 },
 "nbformat": 4,
 "nbformat_minor": 2
}
