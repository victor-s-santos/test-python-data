{
 "cells": [
  {
   "cell_type": "markdown",
   "metadata": {},
   "source": [
    "# Teste Desenvolvedor Python e Data\n",
    "\n",
    "* `O objetivo desse teste é buscar todos os livros sobre o Tema \"Python\" \n",
    "na API do [Open Library](https://openlibrary.org) e salvar a resposta \n",
    "em um arquivo JSON para processamento posterior.`\n",
    "\n",
    "\n",
    "* `Para fazer isso é recomendado utilizar o método \n",
    "[Search](https://openlibrary.org/dev/docs/api/search), especificando o\n",
    "parametro \"subject\" como \"python\".`\n",
    "\n",
    "Não é necessário tratar a paginação da API, é suficiente apenas uma\n",
    "requisição!"
   ]
  },
  {
   "cell_type": "code",
   "execution_count": 6,
   "metadata": {},
   "outputs": [],
   "source": [
    "import json, requests\n",
    "\n",
    "def app1(lp='python'):\n",
    "    end_point = 'http://openlibrary.org/search.json?subject='+lp\n",
    "    response = requests.get(end_point)\n",
    "    conteudo = json.loads(response.content)\n",
    "\n",
    "    lista_livros = conteudo['docs']\n",
    "\n",
    "    with open('lista_livros_' +lp+'.json', 'w') as arquivo:\n",
    "        json.dump(lista_livros, arquivo, indent=4)\n",
    "\n",
    "app1('django')\n",
    "app1()"
   ]
  },
  {
   "cell_type": "code",
   "execution_count": null,
   "metadata": {},
   "outputs": [],
   "source": []
  }
 ],
 "metadata": {
  "file_extension": ".py",
  "kernelspec": {
   "display_name": "Python 3",
   "language": "python",
   "name": "python3"
  },
  "language_info": {
   "codemirror_mode": {
    "name": "ipython",
    "version": 3
   },
   "file_extension": ".py",
   "mimetype": "text/x-python",
   "name": "python",
   "nbconvert_exporter": "python",
   "pygments_lexer": "ipython3",
   "version": "3.6.5"
  },
  "mimetype": "text/x-python",
  "name": "python",
  "npconvert_exporter": "python",
  "pygments_lexer": "ipython3",
  "version": 3
 },
 "nbformat": 4,
 "nbformat_minor": 2
}
